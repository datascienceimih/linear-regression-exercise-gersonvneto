{
  "nbformat": 4,
  "nbformat_minor": 0,
  "metadata": {
    "colab": {
      "name": "Exercicio-1.ipynb",
      "version": "0.3.2",
      "provenance": []
    },
    "kernelspec": {
      "name": "python3",
      "display_name": "Python 3"
    }
  },
  "cells": [
    {
      "metadata": {
        "id": "nGX6zCDvkt4h",
        "colab_type": "text"
      },
      "cell_type": "markdown",
      "source": [
        "# Exercício 1\n",
        "\n",
        "### 1\n",
        "\n",
        "Abra o banco de dados `Boston` e estime 3 regressões:\n",
        "\n",
        "- A primeira prevendo `medv` usando como preditor `lstat`;\n",
        "- A segunda prevendo `medv` usando como preditor `age`;\n",
        "- A terceira usando ambos os preditores.\n",
        "\n",
        "O que podemos dizer sobre o comportamento dos coeficientes estimados? E sobre o ajuste dos modelos?\n",
        "\n",
        "### 2\n",
        "\n",
        "Estime uma regressão usando todas as variáveis como preditoras. Todas são úteis para prever `medv`? Quais você deixaria e quais tiraria? Por quê?\n",
        "\n",
        "Como foi o ajuste desse modelo?\n",
        "\n",
        "Agora tire as variáveis que você considerou que não ajudam a estimação de `medv`. O que aconteceu com o ajuste do modelo?"
      ]
    },
    {
      "metadata": {
        "id": "3UV-Pjxnk2CT",
        "colab_type": "code",
        "colab": {
          "base_uri": "https://localhost:8080/",
          "height": 206
        },
        "outputId": "44df1f72-682e-42c0-8109-9cb8137db66b"
      },
      "cell_type": "code",
      "source": [
        "import pandas as pd\n",
        "import statsmodels.formula.api as sms\n",
        "from statsmodels.iolib.summary2 import summary_col\n",
        "import matplotlib.pyplot as plt\n",
        "import numpy as np\n",
        "%matplotlib inline\n",
        "\n",
        "# Lendo os dados\n",
        "boston = pd.read_csv(\"https://raw.githubusercontent.com/selva86/datasets/master/BostonHousing.csv\")\n",
        "boston.head()"
      ],
      "execution_count": 7,
      "outputs": [
        {
          "output_type": "execute_result",
          "data": {
            "text/html": [
              "<div>\n",
              "<style scoped>\n",
              "    .dataframe tbody tr th:only-of-type {\n",
              "        vertical-align: middle;\n",
              "    }\n",
              "\n",
              "    .dataframe tbody tr th {\n",
              "        vertical-align: top;\n",
              "    }\n",
              "\n",
              "    .dataframe thead th {\n",
              "        text-align: right;\n",
              "    }\n",
              "</style>\n",
              "<table border=\"1\" class=\"dataframe\">\n",
              "  <thead>\n",
              "    <tr style=\"text-align: right;\">\n",
              "      <th></th>\n",
              "      <th>crim</th>\n",
              "      <th>zn</th>\n",
              "      <th>indus</th>\n",
              "      <th>chas</th>\n",
              "      <th>nox</th>\n",
              "      <th>rm</th>\n",
              "      <th>age</th>\n",
              "      <th>dis</th>\n",
              "      <th>rad</th>\n",
              "      <th>tax</th>\n",
              "      <th>ptratio</th>\n",
              "      <th>b</th>\n",
              "      <th>lstat</th>\n",
              "      <th>medv</th>\n",
              "    </tr>\n",
              "  </thead>\n",
              "  <tbody>\n",
              "    <tr>\n",
              "      <th>0</th>\n",
              "      <td>0.00632</td>\n",
              "      <td>18.0</td>\n",
              "      <td>2.31</td>\n",
              "      <td>0</td>\n",
              "      <td>0.538</td>\n",
              "      <td>6.575</td>\n",
              "      <td>65.2</td>\n",
              "      <td>4.0900</td>\n",
              "      <td>1</td>\n",
              "      <td>296</td>\n",
              "      <td>15.3</td>\n",
              "      <td>396.90</td>\n",
              "      <td>4.98</td>\n",
              "      <td>24.0</td>\n",
              "    </tr>\n",
              "    <tr>\n",
              "      <th>1</th>\n",
              "      <td>0.02731</td>\n",
              "      <td>0.0</td>\n",
              "      <td>7.07</td>\n",
              "      <td>0</td>\n",
              "      <td>0.469</td>\n",
              "      <td>6.421</td>\n",
              "      <td>78.9</td>\n",
              "      <td>4.9671</td>\n",
              "      <td>2</td>\n",
              "      <td>242</td>\n",
              "      <td>17.8</td>\n",
              "      <td>396.90</td>\n",
              "      <td>9.14</td>\n",
              "      <td>21.6</td>\n",
              "    </tr>\n",
              "    <tr>\n",
              "      <th>2</th>\n",
              "      <td>0.02729</td>\n",
              "      <td>0.0</td>\n",
              "      <td>7.07</td>\n",
              "      <td>0</td>\n",
              "      <td>0.469</td>\n",
              "      <td>7.185</td>\n",
              "      <td>61.1</td>\n",
              "      <td>4.9671</td>\n",
              "      <td>2</td>\n",
              "      <td>242</td>\n",
              "      <td>17.8</td>\n",
              "      <td>392.83</td>\n",
              "      <td>4.03</td>\n",
              "      <td>34.7</td>\n",
              "    </tr>\n",
              "    <tr>\n",
              "      <th>3</th>\n",
              "      <td>0.03237</td>\n",
              "      <td>0.0</td>\n",
              "      <td>2.18</td>\n",
              "      <td>0</td>\n",
              "      <td>0.458</td>\n",
              "      <td>6.998</td>\n",
              "      <td>45.8</td>\n",
              "      <td>6.0622</td>\n",
              "      <td>3</td>\n",
              "      <td>222</td>\n",
              "      <td>18.7</td>\n",
              "      <td>394.63</td>\n",
              "      <td>2.94</td>\n",
              "      <td>33.4</td>\n",
              "    </tr>\n",
              "    <tr>\n",
              "      <th>4</th>\n",
              "      <td>0.06905</td>\n",
              "      <td>0.0</td>\n",
              "      <td>2.18</td>\n",
              "      <td>0</td>\n",
              "      <td>0.458</td>\n",
              "      <td>7.147</td>\n",
              "      <td>54.2</td>\n",
              "      <td>6.0622</td>\n",
              "      <td>3</td>\n",
              "      <td>222</td>\n",
              "      <td>18.7</td>\n",
              "      <td>396.90</td>\n",
              "      <td>5.33</td>\n",
              "      <td>36.2</td>\n",
              "    </tr>\n",
              "  </tbody>\n",
              "</table>\n",
              "</div>"
            ],
            "text/plain": [
              "      crim    zn  indus  chas    nox     rm   age     dis  rad  tax  ptratio  \\\n",
              "0  0.00632  18.0   2.31     0  0.538  6.575  65.2  4.0900    1  296     15.3   \n",
              "1  0.02731   0.0   7.07     0  0.469  6.421  78.9  4.9671    2  242     17.8   \n",
              "2  0.02729   0.0   7.07     0  0.469  7.185  61.1  4.9671    2  242     17.8   \n",
              "3  0.03237   0.0   2.18     0  0.458  6.998  45.8  6.0622    3  222     18.7   \n",
              "4  0.06905   0.0   2.18     0  0.458  7.147  54.2  6.0622    3  222     18.7   \n",
              "\n",
              "        b  lstat  medv  \n",
              "0  396.90   4.98  24.0  \n",
              "1  396.90   9.14  21.6  \n",
              "2  392.83   4.03  34.7  \n",
              "3  394.63   2.94  33.4  \n",
              "4  396.90   5.33  36.2  "
            ]
          },
          "metadata": {
            "tags": []
          },
          "execution_count": 7
        }
      ]
    },
    {
      "metadata": {
        "id": "DuqjRz6Kk7L_",
        "colab_type": "text"
      },
      "cell_type": "markdown",
      "source": [
        "**Pergunta 1**"
      ]
    },
    {
      "metadata": {
        "id": "upgtBNHvlHlH",
        "colab_type": "code",
        "colab": {
          "base_uri": "https://localhost:8080/",
          "height": 243
        },
        "outputId": "d0f51b8c-1155-4d87-8eff-7c7dc89c2c0a"
      },
      "cell_type": "code",
      "source": [
        "# 1 pergunta\n",
        "\n",
        "model_lstat = sms.ols(formula = 'medv ~ lstat', data = boston).fit()\n",
        "model_age = sms.ols(formula = 'medv ~ age', data = boston).fit()\n",
        "model_both = sms.ols(formula = 'medv ~ lstat + age', data = boston).fit()\n",
        "\n",
        "summarytable2 = summary_col([model_lstat, model_age, model_both], stars=True)\n",
        "print(summarytable2)"
      ],
      "execution_count": 8,
      "outputs": [
        {
          "output_type": "stream",
          "text": [
            "\n",
            "==========================================\n",
            "            medv I    medv II    medv III \n",
            "------------------------------------------\n",
            "Intercept 34.5538*** 30.9787*** 33.2228***\n",
            "          (0.5626)   (0.9991)   (0.7308)  \n",
            "age                  -0.1232*** 0.0345*** \n",
            "                     (0.0135)   (0.0122)  \n",
            "lstat     -0.9500***            -1.0321***\n",
            "          (0.0387)              (0.0482)  \n",
            "==========================================\n",
            "Standard errors in parentheses.\n",
            "* p<.1, ** p<.05, ***p<.01\n"
          ],
          "name": "stdout"
        }
      ]
    },
    {
      "metadata": {
        "id": "ByY5okZGlWJJ",
        "colab_type": "text"
      },
      "cell_type": "markdown",
      "source": [
        "**O que podemos dizer sobre o comportamento dos coeficientes estimados?**\n",
        "\n",
        "Em todos os casos os coeficientes são significantes. Uma curiosidade é que no modelo completo a variavel idade tem um coeficiente positivo, ao contrário do modelo só com a idade."
      ]
    },
    {
      "metadata": {
        "id": "m7hfXc2rllWt",
        "colab_type": "code",
        "colab": {
          "base_uri": "https://localhost:8080/",
          "height": 451
        },
        "outputId": "d48a3420-87d6-470c-db42-78f7cb5b63b4"
      },
      "cell_type": "code",
      "source": [
        "#modelo1\n",
        "print(model_lstat.summary())"
      ],
      "execution_count": 9,
      "outputs": [
        {
          "output_type": "stream",
          "text": [
            "                            OLS Regression Results                            \n",
            "==============================================================================\n",
            "Dep. Variable:                   medv   R-squared:                       0.544\n",
            "Model:                            OLS   Adj. R-squared:                  0.543\n",
            "Method:                 Least Squares   F-statistic:                     601.6\n",
            "Date:                Mon, 18 Mar 2019   Prob (F-statistic):           5.08e-88\n",
            "Time:                        20:55:23   Log-Likelihood:                -1641.5\n",
            "No. Observations:                 506   AIC:                             3287.\n",
            "Df Residuals:                     504   BIC:                             3295.\n",
            "Df Model:                           1                                         \n",
            "Covariance Type:            nonrobust                                         \n",
            "==============================================================================\n",
            "                 coef    std err          t      P>|t|      [0.025      0.975]\n",
            "------------------------------------------------------------------------------\n",
            "Intercept     34.5538      0.563     61.415      0.000      33.448      35.659\n",
            "lstat         -0.9500      0.039    -24.528      0.000      -1.026      -0.874\n",
            "==============================================================================\n",
            "Omnibus:                      137.043   Durbin-Watson:                   0.892\n",
            "Prob(Omnibus):                  0.000   Jarque-Bera (JB):              291.373\n",
            "Skew:                           1.453   Prob(JB):                     5.36e-64\n",
            "Kurtosis:                       5.319   Cond. No.                         29.7\n",
            "==============================================================================\n",
            "\n",
            "Warnings:\n",
            "[1] Standard Errors assume that the covariance matrix of the errors is correctly specified.\n"
          ],
          "name": "stdout"
        }
      ]
    },
    {
      "metadata": {
        "id": "ehla7F2-lmqb",
        "colab_type": "code",
        "colab": {
          "base_uri": "https://localhost:8080/",
          "height": 451
        },
        "outputId": "1f5875e5-17ff-493c-e4c0-d4fc4c70c562"
      },
      "cell_type": "code",
      "source": [
        "#modelo2\n",
        "print(model_age.summary())"
      ],
      "execution_count": 10,
      "outputs": [
        {
          "output_type": "stream",
          "text": [
            "                            OLS Regression Results                            \n",
            "==============================================================================\n",
            "Dep. Variable:                   medv   R-squared:                       0.142\n",
            "Model:                            OLS   Adj. R-squared:                  0.140\n",
            "Method:                 Least Squares   F-statistic:                     83.48\n",
            "Date:                Mon, 18 Mar 2019   Prob (F-statistic):           1.57e-18\n",
            "Time:                        20:55:32   Log-Likelihood:                -1801.5\n",
            "No. Observations:                 506   AIC:                             3607.\n",
            "Df Residuals:                     504   BIC:                             3615.\n",
            "Df Model:                           1                                         \n",
            "Covariance Type:            nonrobust                                         \n",
            "==============================================================================\n",
            "                 coef    std err          t      P>|t|      [0.025      0.975]\n",
            "------------------------------------------------------------------------------\n",
            "Intercept     30.9787      0.999     31.006      0.000      29.016      32.942\n",
            "age           -0.1232      0.013     -9.137      0.000      -0.150      -0.097\n",
            "==============================================================================\n",
            "Omnibus:                      170.034   Durbin-Watson:                   0.613\n",
            "Prob(Omnibus):                  0.000   Jarque-Bera (JB):              456.983\n",
            "Skew:                           1.671   Prob(JB):                    5.85e-100\n",
            "Kurtosis:                       6.240   Cond. No.                         195.\n",
            "==============================================================================\n",
            "\n",
            "Warnings:\n",
            "[1] Standard Errors assume that the covariance matrix of the errors is correctly specified.\n"
          ],
          "name": "stdout"
        }
      ]
    },
    {
      "metadata": {
        "id": "JShHGK3GlqWd",
        "colab_type": "code",
        "colab": {
          "base_uri": "https://localhost:8080/",
          "height": 469
        },
        "outputId": "506d8064-f519-45fc-f397-16ddd75fee35"
      },
      "cell_type": "code",
      "source": [
        "#modelo3\n",
        "print(model_both.summary())"
      ],
      "execution_count": 11,
      "outputs": [
        {
          "output_type": "stream",
          "text": [
            "                            OLS Regression Results                            \n",
            "==============================================================================\n",
            "Dep. Variable:                   medv   R-squared:                       0.551\n",
            "Model:                            OLS   Adj. R-squared:                  0.549\n",
            "Method:                 Least Squares   F-statistic:                     309.0\n",
            "Date:                Mon, 18 Mar 2019   Prob (F-statistic):           2.98e-88\n",
            "Time:                        20:55:42   Log-Likelihood:                -1637.5\n",
            "No. Observations:                 506   AIC:                             3281.\n",
            "Df Residuals:                     503   BIC:                             3294.\n",
            "Df Model:                           2                                         \n",
            "Covariance Type:            nonrobust                                         \n",
            "==============================================================================\n",
            "                 coef    std err          t      P>|t|      [0.025      0.975]\n",
            "------------------------------------------------------------------------------\n",
            "Intercept     33.2228      0.731     45.458      0.000      31.787      34.659\n",
            "lstat         -1.0321      0.048    -21.416      0.000      -1.127      -0.937\n",
            "age            0.0345      0.012      2.826      0.005       0.011       0.059\n",
            "==============================================================================\n",
            "Omnibus:                      124.288   Durbin-Watson:                   0.945\n",
            "Prob(Omnibus):                  0.000   Jarque-Bera (JB):              244.026\n",
            "Skew:                           1.362   Prob(JB):                     1.02e-53\n",
            "Kurtosis:                       5.038   Cond. No.                         201.\n",
            "==============================================================================\n",
            "\n",
            "Warnings:\n",
            "[1] Standard Errors assume that the covariance matrix of the errors is correctly specified.\n"
          ],
          "name": "stdout"
        }
      ]
    },
    {
      "metadata": {
        "id": "MGK4xEFzmBfP",
        "colab_type": "text"
      },
      "cell_type": "markdown",
      "source": [
        "**E sobre ajuste dos modelos**\n",
        "\n",
        "Vemos que o modelo completo é o que tem o melhor ajuste aos dados."
      ]
    },
    {
      "metadata": {
        "id": "U-uS-7tGmE_c",
        "colab_type": "text"
      },
      "cell_type": "markdown",
      "source": [
        "**Pergunta 2**\n",
        "\n",
        "Estime uma regressão usando todas as variáveis como preditoras. Todas são úteis para prever medv? Quais você deixaria e quais tiraria? Por quê?\n",
        "\n",
        "Como foi o ajuste desse modelo?\n",
        "\n",
        "Agora tire as variáveis que você considerou que não ajudam a estimação de medv. O que aconteceu com o ajuste do modelo?"
      ]
    },
    {
      "metadata": {
        "id": "unq3sxMWmOR_",
        "colab_type": "code",
        "colab": {
          "base_uri": "https://localhost:8080/",
          "height": 694
        },
        "outputId": "899d8d4a-1f92-4b35-8026-a5bca8d5d09e"
      },
      "cell_type": "code",
      "source": [
        "model_allvar = sms.ols(formula = 'medv ~ lstat + crim + zn + indus + chas + nox + rm + age + dis + rad + tax + ptratio + b', data = boston).fit()\n",
        "\n",
        "print(model_allvar.summary())"
      ],
      "execution_count": 12,
      "outputs": [
        {
          "output_type": "stream",
          "text": [
            "                            OLS Regression Results                            \n",
            "==============================================================================\n",
            "Dep. Variable:                   medv   R-squared:                       0.741\n",
            "Model:                            OLS   Adj. R-squared:                  0.734\n",
            "Method:                 Least Squares   F-statistic:                     108.1\n",
            "Date:                Mon, 18 Mar 2019   Prob (F-statistic):          6.72e-135\n",
            "Time:                        20:58:13   Log-Likelihood:                -1498.8\n",
            "No. Observations:                 506   AIC:                             3026.\n",
            "Df Residuals:                     492   BIC:                             3085.\n",
            "Df Model:                          13                                         \n",
            "Covariance Type:            nonrobust                                         \n",
            "==============================================================================\n",
            "                 coef    std err          t      P>|t|      [0.025      0.975]\n",
            "------------------------------------------------------------------------------\n",
            "Intercept     36.4595      5.103      7.144      0.000      26.432      46.487\n",
            "lstat         -0.5248      0.051    -10.347      0.000      -0.624      -0.425\n",
            "crim          -0.1080      0.033     -3.287      0.001      -0.173      -0.043\n",
            "zn             0.0464      0.014      3.382      0.001       0.019       0.073\n",
            "indus          0.0206      0.061      0.334      0.738      -0.100       0.141\n",
            "chas           2.6867      0.862      3.118      0.002       0.994       4.380\n",
            "nox          -17.7666      3.820     -4.651      0.000     -25.272     -10.262\n",
            "rm             3.8099      0.418      9.116      0.000       2.989       4.631\n",
            "age            0.0007      0.013      0.052      0.958      -0.025       0.027\n",
            "dis           -1.4756      0.199     -7.398      0.000      -1.867      -1.084\n",
            "rad            0.3060      0.066      4.613      0.000       0.176       0.436\n",
            "tax           -0.0123      0.004     -3.280      0.001      -0.020      -0.005\n",
            "ptratio       -0.9527      0.131     -7.283      0.000      -1.210      -0.696\n",
            "b              0.0093      0.003      3.467      0.001       0.004       0.015\n",
            "==============================================================================\n",
            "Omnibus:                      178.041   Durbin-Watson:                   1.078\n",
            "Prob(Omnibus):                  0.000   Jarque-Bera (JB):              783.126\n",
            "Skew:                           1.521   Prob(JB):                    8.84e-171\n",
            "Kurtosis:                       8.281   Cond. No.                     1.51e+04\n",
            "==============================================================================\n",
            "\n",
            "Warnings:\n",
            "[1] Standard Errors assume that the covariance matrix of the errors is correctly specified.\n",
            "[2] The condition number is large, 1.51e+04. This might indicate that there are\n",
            "strong multicollinearity or other numerical problems.\n"
          ],
          "name": "stdout"
        }
      ]
    },
    {
      "metadata": {
        "id": "orqvtTbWmb9c",
        "colab_type": "text"
      },
      "cell_type": "markdown",
      "source": [
        "Todas são úteis para prever medv? Não\n",
        "\n",
        "Quais você deixaria e quais tiraria? Por quê? Tiraria todas que tem o p-valor menor que 0.05 porque são estatisticamente insignificantes\n",
        "\n",
        "Como foi o ajuste desse modelo? Foi um bom ajuste, R^2 ajustado de 0,734\n"
      ]
    },
    {
      "metadata": {
        "id": "AMPc0jQlmeXg",
        "colab_type": "code",
        "colab": {
          "base_uri": "https://localhost:8080/",
          "height": 660
        },
        "outputId": "1504da92-e54c-47ac-91d7-a32638c2c811"
      },
      "cell_type": "code",
      "source": [
        "model_allvar2 = sms.ols(formula = 'medv ~ lstat + crim + zn  + chas + nox + rm  + dis + rad + tax + ptratio + b', data = boston).fit()\n",
        "\n",
        "print(model_allvar2.summary())"
      ],
      "execution_count": 13,
      "outputs": [
        {
          "output_type": "stream",
          "text": [
            "                            OLS Regression Results                            \n",
            "==============================================================================\n",
            "Dep. Variable:                   medv   R-squared:                       0.741\n",
            "Model:                            OLS   Adj. R-squared:                  0.735\n",
            "Method:                 Least Squares   F-statistic:                     128.2\n",
            "Date:                Mon, 18 Mar 2019   Prob (F-statistic):          5.54e-137\n",
            "Time:                        21:00:02   Log-Likelihood:                -1498.9\n",
            "No. Observations:                 506   AIC:                             3022.\n",
            "Df Residuals:                     494   BIC:                             3072.\n",
            "Df Model:                          11                                         \n",
            "Covariance Type:            nonrobust                                         \n",
            "==============================================================================\n",
            "                 coef    std err          t      P>|t|      [0.025      0.975]\n",
            "------------------------------------------------------------------------------\n",
            "Intercept     36.3411      5.067      7.171      0.000      26.385      46.298\n",
            "lstat         -0.5226      0.047    -11.019      0.000      -0.616      -0.429\n",
            "crim          -0.1084      0.033     -3.307      0.001      -0.173      -0.044\n",
            "zn             0.0458      0.014      3.390      0.001       0.019       0.072\n",
            "chas           2.7187      0.854      3.183      0.002       1.040       4.397\n",
            "nox          -17.3760      3.535     -4.915      0.000     -24.322     -10.430\n",
            "rm             3.8016      0.406      9.356      0.000       3.003       4.600\n",
            "dis           -1.4927      0.186     -8.037      0.000      -1.858      -1.128\n",
            "rad            0.2996      0.063      4.726      0.000       0.175       0.424\n",
            "tax           -0.0118      0.003     -3.493      0.001      -0.018      -0.005\n",
            "ptratio       -0.9465      0.129     -7.334      0.000      -1.200      -0.693\n",
            "b              0.0093      0.003      3.475      0.001       0.004       0.015\n",
            "==============================================================================\n",
            "Omnibus:                      178.430   Durbin-Watson:                   1.078\n",
            "Prob(Omnibus):                  0.000   Jarque-Bera (JB):              787.785\n",
            "Skew:                           1.523   Prob(JB):                    8.60e-172\n",
            "Kurtosis:                       8.300   Cond. No.                     1.47e+04\n",
            "==============================================================================\n",
            "\n",
            "Warnings:\n",
            "[1] Standard Errors assume that the covariance matrix of the errors is correctly specified.\n",
            "[2] The condition number is large, 1.47e+04. This might indicate that there are\n",
            "strong multicollinearity or other numerical problems.\n"
          ],
          "name": "stdout"
        }
      ]
    },
    {
      "metadata": {
        "id": "5ha8sTKumquz",
        "colab_type": "text"
      },
      "cell_type": "markdown",
      "source": [
        "Agora tire as variáveis que você considerou que não ajudam a estimação de medv. O que aconteceu com o ajuste do modelo?\n",
        "\n",
        "*O R^2 ajustado aumentou, ou seja, o poder explicativo do modelo melhorou.*"
      ]
    },
    {
      "metadata": {
        "id": "7S-vRFHzmuvI",
        "colab_type": "text"
      },
      "cell_type": "markdown",
      "source": [
        "# Exercício 2\n",
        "\n",
        "Vamos fazer algumas investigações no banco *credit*. Aí estão dados de cartão de crédito com as seguintes variáveis:\n",
        "\n",
        "- **Income** - renda em milhares de dólares;\n",
        "- **Limit** - limite de crédito;\n",
        "- **Rating** - o *score* de crédito;\n",
        "- **Card** - número de cartões de crédito que a pessoa possui;\n",
        "- **Age** - idade;\n",
        "- **Education** - anos de escolaridade;\n",
        "- **Gender** - sexo;\n",
        "- **Student** - se é estudante;\n",
        "- **Married** - se é casado;\n",
        "- **Ethnicity** - etnia e\n",
        "- **Balance** - dívida média de cartão de crédito.\n",
        "\n",
        "## 1\n",
        "\n",
        "Estude a diferença entre o **balance** entre homens e mulheres usando um modelo de regressão. Interprete os resultados.\n",
        "\n",
        "## 2\n",
        "Estude a diferença entre o **balance** entre pessoas de diferentes etnias usando um modelo de regressão. Interprete os resultados.\n",
        "\n",
        "## 3\n",
        "\n",
        "Estime agora um modelo de regressão utilizando todas as variáveis presentes. O que podemos dizer sobre os resultados? Todas as variáveis ajudam a explicar o *balance*? Quais variáveis você tiraria? Como ficaria seu novo modelo?\n",
        "\n",
        "## 4\n",
        "\n",
        "Estime o seu novo modelo. Interprete os resultados. O que podemos dizer sobre o ajuste do novo modelo em relação ao primeiro?"
      ]
    },
    {
      "metadata": {
        "id": "y_hjC93kogAf",
        "colab_type": "code",
        "colab": {
          "base_uri": "https://localhost:8080/",
          "height": 295
        },
        "outputId": "c6d29dd6-8cf1-4e07-b561-c4d5289ab7e2"
      },
      "cell_type": "code",
      "source": [
        "# Lê os dados\n",
        "credit = pd.read_csv(\"http://www-bcf.usc.edu/~gareth/ISL/Credit.csv\")\n",
        "# Tira a primeira coluna\n",
        "print(credit.columns)\n",
        "credit = credit.drop(columns=['Unnamed: 0'])\n",
        "# Após retirar coluna com índices...\n",
        "print(credit.head())"
      ],
      "execution_count": 14,
      "outputs": [
        {
          "output_type": "stream",
          "text": [
            "Index(['Unnamed: 0', 'Income', 'Limit', 'Rating', 'Cards', 'Age', 'Education',\n",
            "       'Gender', 'Student', 'Married', 'Ethnicity', 'Balance'],\n",
            "      dtype='object')\n",
            "    Income  Limit  Rating  Cards  Age  Education  Gender Student Married  \\\n",
            "0   14.891   3606     283      2   34         11    Male      No     Yes   \n",
            "1  106.025   6645     483      3   82         15  Female     Yes     Yes   \n",
            "2  104.593   7075     514      4   71         11    Male      No      No   \n",
            "3  148.924   9504     681      3   36         11  Female      No      No   \n",
            "4   55.882   4897     357      2   68         16    Male      No     Yes   \n",
            "\n",
            "   Ethnicity  Balance  \n",
            "0  Caucasian      333  \n",
            "1      Asian      903  \n",
            "2      Asian      580  \n",
            "3      Asian      964  \n",
            "4  Caucasian      331  \n"
          ],
          "name": "stdout"
        }
      ]
    },
    {
      "metadata": {
        "id": "OoV93KIYoicE",
        "colab_type": "code",
        "colab": {
          "base_uri": "https://localhost:8080/",
          "height": 451
        },
        "outputId": "392d90dd-1ace-493e-b664-3c37ad22d3c5"
      },
      "cell_type": "code",
      "source": [
        "# pergunta 1\n",
        "\n",
        "model_menwom = sms.ols(formula = 'Balance ~ Gender', data = credit).fit()\n",
        "print(model_menwom.summary())"
      ],
      "execution_count": 15,
      "outputs": [
        {
          "output_type": "stream",
          "text": [
            "                            OLS Regression Results                            \n",
            "==============================================================================\n",
            "Dep. Variable:                Balance   R-squared:                       0.000\n",
            "Model:                            OLS   Adj. R-squared:                 -0.002\n",
            "Method:                 Least Squares   F-statistic:                    0.1836\n",
            "Date:                Mon, 18 Mar 2019   Prob (F-statistic):              0.669\n",
            "Time:                        21:08:15   Log-Likelihood:                -3019.3\n",
            "No. Observations:                 400   AIC:                             6043.\n",
            "Df Residuals:                     398   BIC:                             6051.\n",
            "Df Model:                           1                                         \n",
            "Covariance Type:            nonrobust                                         \n",
            "==================================================================================\n",
            "                     coef    std err          t      P>|t|      [0.025      0.975]\n",
            "----------------------------------------------------------------------------------\n",
            "Intercept        529.5362     31.988     16.554      0.000     466.649     592.423\n",
            "Gender[T.Male]   -19.7331     46.051     -0.429      0.669    -110.267      70.801\n",
            "==============================================================================\n",
            "Omnibus:                       28.438   Durbin-Watson:                   1.940\n",
            "Prob(Omnibus):                  0.000   Jarque-Bera (JB):               27.346\n",
            "Skew:                           0.583   Prob(JB):                     1.15e-06\n",
            "Kurtosis:                       2.471   Cond. No.                         2.58\n",
            "==============================================================================\n",
            "\n",
            "Warnings:\n",
            "[1] Standard Errors assume that the covariance matrix of the errors is correctly specified.\n"
          ],
          "name": "stdout"
        }
      ]
    },
    {
      "metadata": {
        "id": "GyNQC72fokrz",
        "colab_type": "code",
        "colab": {
          "base_uri": "https://localhost:8080/",
          "height": 469
        },
        "outputId": "005f7ec9-fa04-4e52-f31f-0eddb63117c8"
      },
      "cell_type": "code",
      "source": [
        "# pergunta 2\n",
        "\n",
        "model_eth = sms.ols(formula = 'Balance ~ Ethnicity', data = credit).fit()\n",
        "print(model_eth.summary())"
      ],
      "execution_count": 16,
      "outputs": [
        {
          "output_type": "stream",
          "text": [
            "                            OLS Regression Results                            \n",
            "==============================================================================\n",
            "Dep. Variable:                Balance   R-squared:                       0.000\n",
            "Model:                            OLS   Adj. R-squared:                 -0.005\n",
            "Method:                 Least Squares   F-statistic:                   0.04344\n",
            "Date:                Mon, 18 Mar 2019   Prob (F-statistic):              0.957\n",
            "Time:                        21:08:25   Log-Likelihood:                -3019.3\n",
            "No. Observations:                 400   AIC:                             6045.\n",
            "Df Residuals:                     397   BIC:                             6057.\n",
            "Df Model:                           2                                         \n",
            "Covariance Type:            nonrobust                                         \n",
            "==========================================================================================\n",
            "                             coef    std err          t      P>|t|      [0.025      0.975]\n",
            "------------------------------------------------------------------------------------------\n",
            "Intercept                531.0000     46.319     11.464      0.000     439.939     622.061\n",
            "Ethnicity[T.Asian]       -18.6863     65.021     -0.287      0.774    -146.515     109.142\n",
            "Ethnicity[T.Caucasian]   -12.5025     56.681     -0.221      0.826    -123.935      98.930\n",
            "==============================================================================\n",
            "Omnibus:                       28.829   Durbin-Watson:                   1.946\n",
            "Prob(Omnibus):                  0.000   Jarque-Bera (JB):               27.395\n",
            "Skew:                           0.581   Prob(JB):                     1.13e-06\n",
            "Kurtosis:                       2.460   Cond. No.                         4.39\n",
            "==============================================================================\n",
            "\n",
            "Warnings:\n",
            "[1] Standard Errors assume that the covariance matrix of the errors is correctly specified.\n"
          ],
          "name": "stdout"
        }
      ]
    },
    {
      "metadata": {
        "id": "2PXgedFqonj9",
        "colab_type": "code",
        "colab": {
          "base_uri": "https://localhost:8080/",
          "height": 660
        },
        "outputId": "52d98439-ee18-4f10-fb89-2dbd4c74b0a3"
      },
      "cell_type": "code",
      "source": [
        "# pergunta3 \n",
        "\n",
        "model_todasvar = sms.ols(formula = 'Balance ~ Income + Limit + Rating + Cards + Age + Education + Gender + Student + Married + Ethnicity', data = credit).fit()\n",
        "print(model_todasvar.summary())"
      ],
      "execution_count": 17,
      "outputs": [
        {
          "output_type": "stream",
          "text": [
            "                            OLS Regression Results                            \n",
            "==============================================================================\n",
            "Dep. Variable:                Balance   R-squared:                       0.955\n",
            "Model:                            OLS   Adj. R-squared:                  0.954\n",
            "Method:                 Least Squares   F-statistic:                     750.3\n",
            "Date:                Mon, 18 Mar 2019   Prob (F-statistic):          1.11e-253\n",
            "Time:                        21:08:37   Log-Likelihood:                -2398.7\n",
            "No. Observations:                 400   AIC:                             4821.\n",
            "Df Residuals:                     388   BIC:                             4869.\n",
            "Df Model:                          11                                         \n",
            "Covariance Type:            nonrobust                                         \n",
            "==========================================================================================\n",
            "                             coef    std err          t      P>|t|      [0.025      0.975]\n",
            "------------------------------------------------------------------------------------------\n",
            "Intercept               -489.8611     35.801    -13.683      0.000    -560.250    -419.473\n",
            "Gender[T.Male]            10.6532      9.914      1.075      0.283      -8.839      30.145\n",
            "Student[T.Yes]           425.7474     16.723     25.459      0.000     392.869     458.626\n",
            "Married[T.Yes]            -8.5339     10.363     -0.824      0.411     -28.908      11.841\n",
            "Ethnicity[T.Asian]        16.8042     14.119      1.190      0.235     -10.955      44.564\n",
            "Ethnicity[T.Caucasian]    10.1070     12.210      0.828      0.408     -13.899      34.113\n",
            "Income                    -7.8031      0.234    -33.314      0.000      -8.264      -7.343\n",
            "Limit                      0.1909      0.033      5.824      0.000       0.126       0.255\n",
            "Rating                     1.1365      0.491      2.315      0.021       0.171       2.102\n",
            "Cards                     17.7245      4.341      4.083      0.000       9.190      26.259\n",
            "Age                       -0.6139      0.294     -2.088      0.037      -1.192      -0.036\n",
            "Education                 -1.0989      1.598     -0.688      0.492      -4.241       2.043\n",
            "==============================================================================\n",
            "Omnibus:                       34.899   Durbin-Watson:                   1.968\n",
            "Prob(Omnibus):                  0.000   Jarque-Bera (JB):               41.766\n",
            "Skew:                           0.782   Prob(JB):                     8.52e-10\n",
            "Kurtosis:                       3.241   Cond. No.                     3.87e+04\n",
            "==============================================================================\n",
            "\n",
            "Warnings:\n",
            "[1] Standard Errors assume that the covariance matrix of the errors is correctly specified.\n",
            "[2] The condition number is large, 3.87e+04. This might indicate that there are\n",
            "strong multicollinearity or other numerical problems.\n"
          ],
          "name": "stdout"
        }
      ]
    },
    {
      "metadata": {
        "id": "fhHPQSiXoqlb",
        "colab_type": "text"
      },
      "cell_type": "markdown",
      "source": [
        "*Todas as variáveis ajudam a explicar o balance?* Não\n",
        "\n",
        "*Quais variáveis você tiraria?* Todas que tem um p-valor maior que 0,05"
      ]
    },
    {
      "metadata": {
        "id": "AieFRZhaostO",
        "colab_type": "code",
        "colab": {
          "base_uri": "https://localhost:8080/",
          "height": 573
        },
        "outputId": "f9a64f04-a04a-40b6-f1eb-8b07cc5dc8d0"
      },
      "cell_type": "code",
      "source": [
        "model_todasvar2 = sms.ols(formula = 'Balance ~ Income + Limit + Rating + Cards + Age + Student', data = credit).fit()\n",
        "print(model_todasvar2.summary())\n"
      ],
      "execution_count": 19,
      "outputs": [
        {
          "output_type": "stream",
          "text": [
            "                            OLS Regression Results                            \n",
            "==============================================================================\n",
            "Dep. Variable:                Balance   R-squared:                       0.955\n",
            "Model:                            OLS   Adj. R-squared:                  0.954\n",
            "Method:                 Least Squares   F-statistic:                     1380.\n",
            "Date:                Mon, 18 Mar 2019   Prob (F-statistic):          1.58e-260\n",
            "Time:                        21:16:05   Log-Likelihood:                -2400.5\n",
            "No. Observations:                 400   AIC:                             4815.\n",
            "Df Residuals:                     393   BIC:                             4843.\n",
            "Df Model:                           6                                         \n",
            "Covariance Type:            nonrobust                                         \n",
            "==================================================================================\n",
            "                     coef    std err          t      P>|t|      [0.025      0.975]\n",
            "----------------------------------------------------------------------------------\n",
            "Intercept       -493.7342     24.825    -19.889      0.000    -542.540    -444.928\n",
            "Student[T.Yes]   425.6099     16.510     25.780      0.000     393.152     458.068\n",
            "Income            -7.7951      0.233    -33.395      0.000      -8.254      -7.336\n",
            "Limit              0.1937      0.032      5.981      0.000       0.130       0.257\n",
            "Rating             1.0912      0.485      2.251      0.025       0.138       2.044\n",
            "Cards             18.2119      4.319      4.217      0.000       9.721      26.702\n",
            "Age               -0.6241      0.292     -2.139      0.033      -1.198      -0.050\n",
            "==============================================================================\n",
            "Omnibus:                       34.091   Durbin-Watson:                   1.954\n",
            "Prob(Omnibus):                  0.000   Jarque-Bera (JB):               40.623\n",
            "Skew:                           0.772   Prob(JB):                     1.51e-09\n",
            "Kurtosis:                       3.225   Cond. No.                     2.66e+04\n",
            "==============================================================================\n",
            "\n",
            "Warnings:\n",
            "[1] Standard Errors assume that the covariance matrix of the errors is correctly specified.\n",
            "[2] The condition number is large, 2.66e+04. This might indicate that there are\n",
            "strong multicollinearity or other numerical problems.\n"
          ],
          "name": "stdout"
        }
      ]
    },
    {
      "metadata": {
        "id": "H74JY7yfqPxR",
        "colab_type": "text"
      },
      "cell_type": "markdown",
      "source": [
        "Estime o seu novo modelo. Interprete os resultados. O que podemos dizer sobre o ajuste do novo modelo em relação ao primeiro?\n",
        "\n",
        "*O ajuste do modelo esta igual ao acima  ,mas sem as variáveis que não são significantes. Significa que a remoção dessas variáveis não afetaram positivamente o nosso segundo modelo.*\n"
      ]
    }
  ]
}